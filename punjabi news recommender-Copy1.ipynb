{
 "cells": [
  {
   "cell_type": "code",
   "execution_count": 2,
   "metadata": {},
   "outputs": [],
   "source": [
    "from gensim.models import KeyedVectors\n",
    "import pandas as pd\n",
    "from sklearn.feature_extraction.text import TfidfVectorizer\n",
    "from sklearn.metrics.pairwise import linear_kernel\n",
    "from sklearn.metrics.pairwise import cosine_similarity\n",
    "import numpy as np\n",
    "import re"
   ]
  },
  {
   "cell_type": "code",
   "execution_count": 4,
   "metadata": {},
   "outputs": [],
   "source": [
    "model=KeyedVectors.load_word2vec_format(\"wiki.pa.vec\")"
   ]
  },
  {
   "cell_type": "code",
   "execution_count": 5,
   "metadata": {},
   "outputs": [],
   "source": [
    "vocab=[]\n",
    "for word in model.vocab:\n",
    "    vocab.append(word)"
   ]
  },
  {
   "cell_type": "code",
   "execution_count": 16,
   "metadata": {},
   "outputs": [],
   "source": [
    "stopwords = ['ਹੋਣ', 'ਆਪਣੇ', 'ਕਰਕੇ', 'ਲਿਆ', 'ਹੋਇਆ', 'ਤੱਕ', 'ਲੈ', 'ਰਹੇ', 'ਦੱਸਿਆ', 'ਪੀ', 'ਕੌਰ', 'ਸਿੰਘ', 'ਗਿਆ',\n",
    "             'ਦੀਆਂ', 'ਦਿੱਤਾ', 'ਜਿਸ', 'ਜਿਸ', 'ਕੀਤੀ', 'ਰਿਹਾ', 'ਕਿਹਾ', 'ਟੀ', 'ਰਹੀ', 'ਜਾ', 'ਹੋਏ', 'ਤਾਂ', 'ਹੋ', 'ਦੇ',\n",
    "             'ਨੂੰ', 'ਤੋਂ', 'ਪਰ', 'ਇਹ', 'ਹੀ', 'ਵ', 'ਦਾ', 'ਨੇ', 'ਕਿ', 'ਤੇ', 'ਦੀ', 'ਦੇ', 'ਨੂੰ', 'ਇਕ', 'ਬਾਰੇ',\n",
    "             'ਉਪਰੋਕਤ', 'ਭਰ', 'ਬਾਅਦ', 'ਬਾਅਦ', 'ਦੁਬਾਰਾ', 'ਵਿਰੁੱਧ', 'ਸਭ', 'ਲਗਭਗ', 'ਇਕੱਲੀ', 'ਨਾਲ', 'ਪਹਿਲਾਂ ਹੀ',\n",
    "             'ਵੀ', 'ਹਾਲਾਂ', 'ਹਮੇਸ਼ਾ', 'ਵਿਚ', 'ਵਿਚਕਾਰ', 'ਅਮਨਗਸਟ', 'ਮਾਤਰਾ', 'ਇਕ', 'ਅਤੇ', 'ਇਕ ਹੋਰ', 'ਕੋਈ',\n",
    "             'ਕਿਸੇ','ਵੀ','ਤਰ੍ਹਾਂ', 'ਕਿਸੇ ਵੀ', 'ਕੁਝ ਵੀ', 'ਕਿਸੇ ਵੀ ਜਗ੍ਹਾ', 'ਕਿਤੇ ਵੀ', 'ਹਨ', 'ਆਲੇ', 'ਬੈਕ', 'ਬਣ',\n",
    "             'ਬਣ ਗਿਆ', 'ਬਣਨ', 'ਬਣ', 'ਬਾਹਰੀ', 'ਇਲਾਵਾ', 'ਵਿਚਕਾਰ', 'ਪਰੇ', 'ਬਿੱਲ', 'ਦੋਨੋ', 'ਤਲ', 'ਪਰ', 'ਬਣ', 'ਕੇ',\n",
    "             'ਕਾਲ', 'ਕੈਨ', 'ਨਹੀਂ', 'ਕੈਨਟ', 'ਕੋ', 'ਕੰਪਿਊਟਰ', 'ਕੋਨ', 'ਸੀ', 'ਬਰਦਾਸ਼ਤ', 'ਰੋਏ', 'ਡੀ', 'ਵਰਣਨ',\n",
    "             'ਵਿਸਥਾਰ', 'ਕੀਤਾ', 'ਕਰਨਾ', 'ਕੀਤਾ', 'ਹੇਠਾਂ', 'ਹਰ', 'ਜਿਵੇਂ', 'ਅੱਠ', 'ਜਾਂ', 'ਹੋਰ', 'ਹੋਰ', 'ਖਾਲੀ',\n",
    "             'ਕਾਫ਼ੀ', 'ਆਦਿ', 'ਵੀ', 'ਕਦੇ', 'ਹਰ', 'ਹਰ ਕੋਈ', 'ਹਰ ਚੀਜ਼', 'ਹਰ ਜਗ੍ਹਾ', 'ਸਿਵਾਏ', 'ਕੁਝ', 'ਪੰਦਰਾਂ',\n",
    "             'ਪੰਜਾਹ', 'ਭਰਨ', 'ਲੱਭੋ', 'ਪਹਿਲਾ', 'ਪੰਜ', 'ਲਈ', 'ਪੁਰਾਣਾ', 'ਪਹਿਲਾਂ', 'ਚਾਲੀ', 'ਮਿਲਿਆ', 'ਚਾਰ', 'ਤੋ',\n",
    "             'ਫਰੰਟ', 'ਪੂਰਾ', 'ਅੱਗੇ', 'ਪ੍ਰਾਪਤ', 'ਦੇਣਾ', 'ਜਾਓ', 'ਹੈ', 'ਹੈ', 'ਹੈ ਨਾ', 'ਹੈ', 'ਉਹ', 'ਇਸ', 'ਉਸ',\n",
    "             'ਇੱਥੇ', 'ਅੱਗੇ', 'ਏਸ ਕੇ', 'ਏਥੇ', 'ਹੁਣ', 'ਉਸ', 'ਆਪ', 'ਉਸ', 'ਖ਼ੁਦ', 'ਉਸ', 'ਕਿਸ', 'ਪਰ', 'ਸੌ', 'ਮੈਂ',\n",
    "             'ਅਰਥਾਤ', 'ਜੇ', 'ਇਨ', 'ਅਸਲ', 'ਵਿਆਜ', 'ਇਨ', 'ਐੱਸ', 'ਇਹ', 'ਆਖ', 'ਬਾਅਦ', 'ਬਾਅਦ', 'ਘੱਟ', 'ਘੱਟ', 'ਲਿਡ',\n",
    "             'ਬਣਾਇਆ', 'ਬਹੁਤ ਸਾਰੇ', 'ਮੇ', 'ਮੈਂ', 'ਇਸ ਦੌਰਾਨ', 'ਸ਼ਾਇਦ', 'ਮਿੱਲ', 'ਮੇਰਾ', 'ਹੋਰ', 'ਹੋਰ', 'ਸਭ',\n",
    "             'ਜ਼ਿਆਦਾਤਰ', 'ਮੂਵ', 'ਬਹੁਤ', 'ਜ਼ਰੂਰ', 'ਮੇਰਾ', 'ਮੈਂ', 'ਨਾਮ', 'ਅਰਥਾਤ', 'ਨਾ', 'ਕਦੇ ਨਹੀਂ', 'ਫਿਰ', 'ਅਗਲਾ',\n",
    "             'ਨੌਂ', 'ਨਹੀਂ', 'ਕੋਈ ਨਹੀਂ', 'ਕੋਈ ਨਹੀਂ', 'ਨਾ', 'ਕੁਝ ਨਹੀਂ', 'ਹੁਣ', 'ਕਿਤੇ ਨਹੀਂ', 'ਦਾ', 'ਬੰਦ', 'ਅਕਸਰ',\n",
    "             'ਇਕ ਵਾਰ', 'ਇਕ', 'ਸਿਰਫ', 'ਉੱਤੇ', 'ਜਾਂ', 'ਹੋਰ', 'ਹੋਰ', 'ਹੋਰ', 'ਸਾਡਾ', 'ਸਾਡਾ', 'ਆਪ', 'ਬਾਹਰ', 'ਓਵਰ',\n",
    "             'ਖੁਦ', 'ਹਿੱਸਾ', 'ਉਹੀ', ' ਵੇਖੋ', 'ਜਾਪ ', 'ਵੇਖਣਾ', 'ਲੱਗਦਾ', 'ਗੰਭੀਰ', 'ਕਈ', 'ਉਹ', 'ਕਰਨਾ ਚਾਹੀਦਾ ਹੈ',\n",
    "             'ਸ਼ੋਅ', 'ਸਾਈਡ', 'ਏ', 'ਈਰਿਵਾਰ', 'ਛੇ', 'ਸੱਠ', 'ਉਸ', 'ਉਹ', 'ਉਨ੍ਹਾਂ', 'ਉਨ੍ਹਾਂ', 'ਆਪ', 'ਤਦ', 'ਤਦ ਤੋਂ',\n",
    "             'ਉੱਥੇ', 'ਉਸ ਤੋਂ ਬਾਅਦ', 'ਇਸ ਤਰ੍ਹਾਂ', 'ਇਸ ਲਈ', 'ਉਸ ਵਿਚ', 'ਇਸ ਤੋਂ ਬਾਅਦ', 'ਇਹ', 'ਉਹ', 'ਮੋਟੀ', 'ਪਤਲੇ',\n",
    "             'ਤੀਸਰਾ', 'ਇਹ', 'ਉਹ', 'ਭਾਵੇਂ', 'ਤਿੰਨ', 'ਤਿੰਨ', 'ਪੂਰੇ', 'ਥਰੂ', 'ਇਸ ਤਰ੍ਹਾਂ', 'ਇਕੋ', 'ਬਹੁਤ', 'ਚੋਟੀ',\n",
    "             'ਵੱਲ', 'ਵੱਲ', 'ਬਾਰਾਂ', 'ਵੀਹ', 'ਦੋ', 'ਅਣ', 'ਅਧੀਨ', 'ਤਦ', 'ਅਪ', 'ਉੱਤੇ', 'ਸਾਨੂੰ', 'ਬਹੁਤ', 'ਰਾਹ', 'ਸੀ',\n",
    "             'ਅਸੀਂ', 'ਚੰਗੀ', 'ਸਨ', 'ਕੀ', 'ਜੋ','ਵੀ', 'ਕਦ', 'ਕਦੋਂ', 'ਜਦੋਂ ਵੀ', 'ਕਿੱਥੇ', 'ਬਾਅਦ', 'ਜਦੋਂ', 'ਜਿਸ ਵਿਚ ',\n",
    "             'ਜਿਸ ਵਿਚ', 'ਜਿਧਰ', 'ਕਿਤੇ ਵੀ', 'ਕੀ', 'ਕਿਹੜਾ', 'ਕਦ', 'ਕਿਥੇ', 'ਕੌਣ']\n",
    "\n",
    "\n",
    "stopwords_split=[i.split()[0] for i in stopwords]"
   ]
  },
  {
   "cell_type": "code",
   "execution_count": null,
   "metadata": {},
   "outputs": [],
   "source": []
  },
  {
   "cell_type": "code",
   "execution_count": 6,
   "metadata": {},
   "outputs": [
    {
     "data": {
      "text/plain": [
       "56850"
      ]
     },
     "execution_count": 6,
     "metadata": {},
     "output_type": "execute_result"
    }
   ],
   "source": [
    "len(vocab)"
   ]
  },
  {
   "cell_type": "code",
   "execution_count": 11,
   "metadata": {},
   "outputs": [
    {
     "data": {
      "text/plain": [
       "['ਸੀ', 'ਉਹ', 'ਜੋ', 'ਹੀ', '।', 'ਦੀਆਂ', 'ਭਾਰਤ', 'for', '}}}', 'data']"
      ]
     },
     "execution_count": 11,
     "metadata": {},
     "output_type": "execute_result"
    }
   ],
   "source": [
    "vocab[45:55]"
   ]
  },
  {
   "cell_type": "code",
   "execution_count": 75,
   "metadata": {},
   "outputs": [
    {
     "data": {
      "text/plain": [
       "(300,)"
      ]
     },
     "execution_count": 75,
     "metadata": {},
     "output_type": "execute_result"
    }
   ],
   "source": [
    "model.vectors[0].shape"
   ]
  },
  {
   "cell_type": "code",
   "execution_count": 73,
   "metadata": {},
   "outputs": [],
   "source": [
    "search='ਇੱਕ'\n",
    "search2='ਮੁੰਬਈ'\n",
    "search3='ਡੱਡੂ'\n",
    "search4='ਵਾਹਿਗੁਰੂ'"
   ]
  },
  {
   "cell_type": "code",
   "execution_count": 74,
   "metadata": {},
   "outputs": [
    {
     "data": {
      "text/plain": [
       "[('ਡੱਡੂਆਂ', 0.7903650999069214),\n",
       " ('ਲੂੰਬੜੀ', 0.7376791834831238),\n",
       " ('ਲੂੰਬੜ', 0.7309291362762451),\n",
       " ('ਬਿੱਛੂ', 0.7178257703781128),\n",
       " ('ਕੱਛੂਕੁੰਮਾ', 0.7090239524841309),\n",
       " ('ਛਿੱਲੜ', 0.7007120847702026),\n",
       " ('ਲੱਡੂ', 0.699851393699646),\n",
       " ('ਆਲ੍ਹਣੇ', 0.6943454742431641),\n",
       " ('ਆਲ੍ਹਣਾ', 0.6878112554550171),\n",
       " ('ਜਲਥਲੀ', 0.6864452958106995)]"
      ]
     },
     "execution_count": 74,
     "metadata": {},
     "output_type": "execute_result"
    }
   ],
   "source": [
    "model.similar_by_word(search3)"
   ]
  },
  {
   "cell_type": "code",
   "execution_count": 18,
   "metadata": {},
   "outputs": [],
   "source": [
    "data=pd.read_csv(\"punjabi_newsss.csv\")\n"
   ]
  },
  {
   "cell_type": "code",
   "execution_count": 19,
   "metadata": {},
   "outputs": [
    {
     "data": {
      "text/html": [
       "<div>\n",
       "<style scoped>\n",
       "    .dataframe tbody tr th:only-of-type {\n",
       "        vertical-align: middle;\n",
       "    }\n",
       "\n",
       "    .dataframe tbody tr th {\n",
       "        vertical-align: top;\n",
       "    }\n",
       "\n",
       "    .dataframe thead th {\n",
       "        text-align: right;\n",
       "    }\n",
       "</style>\n",
       "<table border=\"1\" class=\"dataframe\">\n",
       "  <thead>\n",
       "    <tr style=\"text-align: right;\">\n",
       "      <th></th>\n",
       "      <th>Article_id</th>\n",
       "      <th>Article_title</th>\n",
       "      <th>Article_Content</th>\n",
       "    </tr>\n",
       "  </thead>\n",
       "  <tbody>\n",
       "    <tr>\n",
       "      <th>0</th>\n",
       "      <td>1</td>\n",
       "      <td>NaN</td>\n",
       "      <td>ਮੁੰਬਈ ਬਿਊਰੋ ਬਾਲੀਵੁੱਡ ਅਕਸ਼ੈ ਕੁਮਾਰ ਨੇ ਮੁੰਬਈ ਹਾਲ ਹ...</td>\n",
       "    </tr>\n",
       "    <tr>\n",
       "      <th>1</th>\n",
       "      <td>2</td>\n",
       "      <td>ਹੁਣ ਮਾਈਕ੍ਰੋਸਾਫਟ ਵੀ ਬਦਲੇਗਾ ਪਿਸਤੌਲ ਇਮੋਜੀ</td>\n",
       "      <td>ਜਲੰਧਰ ਗੂਗਲ ਤੇ ਫੇਸਬੁੱਕ ਵੱਲੋਂ ਪਿਸਤੌਲ ਇਮੋਜੀ ਨੂੰ ਵ...</td>\n",
       "    </tr>\n",
       "    <tr>\n",
       "      <th>2</th>\n",
       "      <td>3</td>\n",
       "      <td>NaN</td>\n",
       "      <td>ਮੁੰਬਈ ਬਿਊਰੋ ਬਾਲੀਵੁੱਡ ਅਭਿਨੇਤਰੀ ਸੋਹਾ ਅਲੀ ਖਾਨ ਦੀ ...</td>\n",
       "    </tr>\n",
       "    <tr>\n",
       "      <th>3</th>\n",
       "      <td>4</td>\n",
       "      <td>ਟਰੈਕਟਰ ਤੇ ਮੋਟਰਸਾਈਕਲ ਦੀ ਟੱਕਰ ਜ਼ਖਮੀ</td>\n",
       "      <td>ਜੈਤੋ ਜਿੰਦਲ – ਬੀਤੇ ਦਿਨ ਰੋੜੀਕਪੂਰਾ ਤੋਂ ਕਾਸਮਭੱਟੀ ਰ...</td>\n",
       "    </tr>\n",
       "    <tr>\n",
       "      <th>4</th>\n",
       "      <td>5</td>\n",
       "      <td>ਸਾਲ ਕਰੋੜ ਰੁਪਏ ਪੂੰਜੀ ਵਪਾਰ ਕਰੇਗੀ ਮਾਰੂਤੀ ਸੁਜ਼ੂਕੀ</td>\n",
       "      <td>ਨਵੀਂ ਦਿੱਲੀ ਕਾਰ ਬਣਾਉਣ ਵਾਲੀ ਦੇਸ਼ ਦੀ ਤੋਂ ਵੱਡੀ ਕੰਪਨ...</td>\n",
       "    </tr>\n",
       "  </tbody>\n",
       "</table>\n",
       "</div>"
      ],
      "text/plain": [
       "   Article_id                                 Article_title  \\\n",
       "0           1                                           NaN   \n",
       "1           2        ਹੁਣ ਮਾਈਕ੍ਰੋਸਾਫਟ ਵੀ ਬਦਲੇਗਾ ਪਿਸਤੌਲ ਇਮੋਜੀ   \n",
       "2           3                                           NaN   \n",
       "3           4              ਟਰੈਕਟਰ ਤੇ ਮੋਟਰਸਾਈਕਲ ਦੀ ਟੱਕਰ ਜ਼ਖਮੀ   \n",
       "4           5  ਸਾਲ ਕਰੋੜ ਰੁਪਏ ਪੂੰਜੀ ਵਪਾਰ ਕਰੇਗੀ ਮਾਰੂਤੀ ਸੁਜ਼ੂਕੀ   \n",
       "\n",
       "                                     Article_Content  \n",
       "0  ਮੁੰਬਈ ਬਿਊਰੋ ਬਾਲੀਵੁੱਡ ਅਕਸ਼ੈ ਕੁਮਾਰ ਨੇ ਮੁੰਬਈ ਹਾਲ ਹ...  \n",
       "1  ਜਲੰਧਰ ਗੂਗਲ ਤੇ ਫੇਸਬੁੱਕ ਵੱਲੋਂ ਪਿਸਤੌਲ ਇਮੋਜੀ ਨੂੰ ਵ...  \n",
       "2  ਮੁੰਬਈ ਬਿਊਰੋ ਬਾਲੀਵੁੱਡ ਅਭਿਨੇਤਰੀ ਸੋਹਾ ਅਲੀ ਖਾਨ ਦੀ ...  \n",
       "3  ਜੈਤੋ ਜਿੰਦਲ – ਬੀਤੇ ਦਿਨ ਰੋੜੀਕਪੂਰਾ ਤੋਂ ਕਾਸਮਭੱਟੀ ਰ...  \n",
       "4  ਨਵੀਂ ਦਿੱਲੀ ਕਾਰ ਬਣਾਉਣ ਵਾਲੀ ਦੇਸ਼ ਦੀ ਤੋਂ ਵੱਡੀ ਕੰਪਨ...  "
      ]
     },
     "execution_count": 19,
     "metadata": {},
     "output_type": "execute_result"
    }
   ],
   "source": [
    "data.head()"
   ]
  },
  {
   "cell_type": "code",
   "execution_count": 20,
   "metadata": {},
   "outputs": [],
   "source": [
    "# data.Article_Content\n",
    "corpus=[]\n",
    "for article in data.Article_Content:\n",
    "    if type(article) == str:\n",
    "#         if len(article)<10:\n",
    "#             pass\n",
    "        corpus.append(re.sub(\" \\d+\",'',article))"
   ]
  },
  {
   "cell_type": "code",
   "execution_count": 33,
   "metadata": {},
   "outputs": [],
   "source": [
    "tfid=TfidfVectorizer(stop_words=stopwords_split)"
   ]
  },
  {
   "cell_type": "code",
   "execution_count": 34,
   "metadata": {},
   "outputs": [],
   "source": [
    "tfid_mat=tfid.fit_transform(corpus)"
   ]
  },
  {
   "cell_type": "code",
   "execution_count": 35,
   "metadata": {},
   "outputs": [
    {
     "data": {
      "text/plain": [
       "<2969x5518 sparse matrix of type '<class 'numpy.float64'>'\n",
       "\twith 155013 stored elements in Compressed Sparse Row format>"
      ]
     },
     "execution_count": 35,
     "metadata": {},
     "output_type": "execute_result"
    }
   ],
   "source": [
    "tfid_mat"
   ]
  },
  {
   "cell_type": "code",
   "execution_count": 76,
   "metadata": {},
   "outputs": [],
   "source": [
    "fasttext_vocab_matrix=[]\n",
    "for word in tfid.vocabulary_:\n",
    "    if word in model.vocab:\n",
    "        fasttext_vocab_matrix.append(model.get_vector(word))\n",
    "    else:\n",
    "        fasttext_vocab_matrix.append(np.zeros((300)))\n",
    "        \n",
    "fasttext_vocab_matrix=np.array(fasttext_vocab_matrix)"
   ]
  },
  {
   "cell_type": "code",
   "execution_count": 77,
   "metadata": {},
   "outputs": [
    {
     "data": {
      "text/plain": [
       "(5518, 300)"
      ]
     },
     "execution_count": 77,
     "metadata": {},
     "output_type": "execute_result"
    }
   ],
   "source": [
    "fasttext_vocab_matrix.shape"
   ]
  },
  {
   "cell_type": "code",
   "execution_count": 78,
   "metadata": {},
   "outputs": [
    {
     "data": {
      "text/plain": [
       "((2969, 5518), (5518, 300))"
      ]
     },
     "execution_count": 78,
     "metadata": {},
     "output_type": "execute_result"
    }
   ],
   "source": [
    "tfid_mat.shape,fasttext_vocab_matrix.shape"
   ]
  },
  {
   "cell_type": "code",
   "execution_count": 79,
   "metadata": {},
   "outputs": [],
   "source": [
    "vec=np.dot(tfid_mat.todense(),fasttext_vocab_matrix)"
   ]
  },
  {
   "cell_type": "code",
   "execution_count": 81,
   "metadata": {},
   "outputs": [
    {
     "name": "stdout",
     "output_type": "stream",
     "text": [
      "(2969, 300)\n"
     ]
    }
   ],
   "source": [
    "print(vec.shape)"
   ]
  },
  {
   "cell_type": "code",
   "execution_count": 82,
   "metadata": {},
   "outputs": [],
   "source": [
    "cos_sims=cosine_similarity(vec)"
   ]
  },
  {
   "cell_type": "code",
   "execution_count": 83,
   "metadata": {},
   "outputs": [
    {
     "data": {
      "text/plain": [
       "(2969, 2969)"
      ]
     },
     "execution_count": 83,
     "metadata": {},
     "output_type": "execute_result"
    }
   ],
   "source": [
    "cos_sims.shape"
   ]
  },
  {
   "cell_type": "code",
   "execution_count": 85,
   "metadata": {},
   "outputs": [],
   "source": [
    "# cosine_similarity of one article with itself is 1 ,it will be first recommendation for that article so we remove \n",
    "# all entries from similarity matrix (cos_sims) with value gearter than 0.99\n",
    "cos_sims[cos_sims>0.99]=0      "
   ]
  },
  {
   "cell_type": "code",
   "execution_count": null,
   "metadata": {},
   "outputs": [],
   "source": []
  },
  {
   "cell_type": "code",
   "execution_count": 86,
   "metadata": {},
   "outputs": [],
   "source": [
    "cos_sim_sorted=cos_sims.argsort()"
   ]
  },
  {
   "cell_type": "code",
   "execution_count": 87,
   "metadata": {},
   "outputs": [],
   "source": [
    "def top_5_similar(story_num,sims_sorted):\n",
    "    indexes=sims_sorted[story_num][-5:]\n",
    "#     print(indexes)\n",
    "    similar_articles=[data.Article_Content[i] for i in indexes[::-1]]\n",
    "    return similar_articles\n",
    "  "
   ]
  },
  {
   "cell_type": "code",
   "execution_count": 88,
   "metadata": {},
   "outputs": [
    {
     "data": {
      "text/plain": [
       "'ਤਹਿਰਾਨ ਦੱਖਣੀ ਈਰਾਨ ਦੇ ਪਰਬਤੀ ਖੇਤਰ ਵਿਚ ਅੱਜ ਤੀਬਰਤਾ ਦਾ ਭੂਚਾਲ ਜਿਸ ਵਿਚ ਘੱਟ ਤੋਂ ਘੱਟ ਲੋਕ ਜ਼ਖਮੀ ਹੋ ਗਏ। ਨਾਲ ਬਿਜਲੀ ਸਪਲਾਈ ਅਤੇ ਸੰਚਾਰ ਵਿਵਸਥਾ ਪ੍ਰਭਾਵਿਤ ਹੋਈ ਹੈ। ਸਰਕਾਰੀ ਮੀਡੀਆ ਦੀ ਵਿਚ ਕਿਹਾ ਗਿਆ ਹੈ ਕਿ ਭੂਚਾਲ ਤਹਿਰਾਨ ਤੋਂ ਕਰੀਬ ਕਿਲੋਮੀਟਰ ਦੱਖਣ ਵਿਚ ਸਿਸਖਤ ਸ਼ਹਿਰ ਵਿਚ ਆਇਆ। ਦਹਿਸ਼ਤ ਦੀ ਵਜ੍ਹਾ ਨਾਲ ਲੋਕ ਸੜਕਾਂ ਤੇ ਗਏ। ਤੁਹਾਨੂੰ ਦੱਸ ਕਿ ਸ਼ਹਿਰ ਦੀ ਅਬਾਦੀ ਹੈ। ਟੈਲੀਵਿਜ਼ਨ ਫੁਟੇਜ ਵਿਚ ਦਿਖਾਇਆ ਗਿਆ ਕਿ ਇਮਾਰਤਾਂ ਦੀਆਂ ਕੰਧਾਂ ਵਿਚ ਦਰਾੜਾ ਗਈਆਂ ਹਨ। ਸਰਕਾਰੀ ਗੱਲਬਾਤ ਕਮੇਟੀ ਮੁਤਾਬਕ ਸੁਬਾਈ ਐਮਰਜੈਂਸੀ ਸੇਵਾਵਾਂ ਦੇ ਮੁਖੀ ਜਲਾਲ ਪੈਰਾਨਫਰਡ ਨੇ ਕਿਹਾ ਕਿ ਲੋਕਾਂ ਨੂੰ ਮੈਡੀਕਲ ਕੇਂਦਰਾਂ ਵਿਚ ਭੇਜਿਆ ਗਿਆ ਹੈ ਅਤੇ ਹੋਰ ਲੋਕਾਂ ਦਾ ਇਲਾਜ ਕੀਤਾ ਗਿਆ ਹੈ। ਈਰਾਨ ਵਿਚ ਭੂਚਾਲ ਆਉਂਦੇ ਰਹਿੰਦੇ ਹਨ। ਪਿਛਲੇ ਸਾਲ ਨਵੰਬਰ ਵਿਚ ਪੱਛਮੀ ਈਰਾਨ ਵਿਚ ਤੀਬਰਤਾ ਦਾ ਭੂਚਾਲ ਸੀ। ਵਿਚ ਤੋਂ ਜ਼ਿਆਦਾ ਲੋਕਾਂ ਦੀ ਮੌਤ ਹੋ ਸੀ। ਇਸੇ ਤਰ੍ਹਾਂ ਵਿਚ ਤੀਬਰਤਾ ਦੇ ਭੂਚਾਲ ਵਿਚ ਇਤਿਹਾਸਕ ਸ਼ਹਿਰ ਬਾਮ ਤਬਾਹ ਹੋ ਗਿਆ ਸੀ। ਉਦੋਂ ਲੋਕਾਂ ਦੀ ਮੌਤ ਹੋ ਸੀ।'"
      ]
     },
     "execution_count": 88,
     "metadata": {},
     "output_type": "execute_result"
    }
   ],
   "source": [
    "corpus[1936]"
   ]
  },
  {
   "cell_type": "code",
   "execution_count": 89,
   "metadata": {},
   "outputs": [
    {
     "data": {
      "text/plain": [
       "['ਸਿਡਨੀ ਦੁਨੀਆ ਤੋਂ ਲੰਬੇ ਸਮੇਂ ਤੱਕ ਜਿਊਂਦੀ ਰਹਿਣ ਵਾਲੀ ਮੱਕੜੀ ਦੀ 43 ਸਾਲ ਦੀ ਵਿਚ ਮੌਤ ਹੋ ਗਈ। ਆਸਟ੍ਰੇਲੀਆ ਵਿਚ ਜਨਸੰਖਿਆ ਅਧਿਐਨ ਦੌਰਾਨ ਲੰਬੇ ਸਮੇਂ ਤੋਂ ਮੱਕੜੀ ਤੇ ਰੱਖੀ ਜਾ ਰਹੀ ਸੀ। ਖੋਜਕਰਤਾਵਾਂ ਨੇ ਮੱਕੜੀ ਦਾ ਨਾਂ ਨੰਬਰ 16 ਰੱਖਿਆ ਹੋਇਆ ਸੀ। ਖੋਜਕਰਤਾਵਾਂ ਨੇ ਦੱਸਿਆ ਕਿ ਮੱਕੜੀ ਦੀ ਮੌਤ ਬੁੱਢੇ ਹੋਣ ਕਾਰਨ ਨਹੀਂ ਸਗੋਂ ਕਿ ਨੂੰ ਕੀੜੇ ਨੇ ਆਪਣਾ ਸ਼ਿਕਾਰ ਬਣਾ ਜਾਣ ਕਾਰਨ ਹੋਈ ਹੈ। ਮੱਕੜੀ ਦੀ ਵਜ੍ਹਾ ਤੋਂ ਵਿਗਿਆਨੀਆਂ ਨੂੰ ਸਮੁੱਚੇ ਆਸਟ੍ਰੇਲੀਆ ਵਿਚ ਪਾਈਆਂ ਜਾਣ ਵਾਲੀਆਂ ਮੱਕੜੀਆਂ ਦੇ ਵਿਵਹਾਰ ਨੂੰ ਵਿਚ ਮਿਲੀ। ਤੋਂ ਪਹਿਲਾਂ ਤੋਂ ਲੰਬੇ ਸਮੇਂ ਤੱਕ ਜ਼ਿੰਦਾ ਰਹਿਣ ਦਾ ਰਿਕਾਰਡ ਮੈਕਸੀਕੋ ਦੇ ਤਰਾਨਤੁਲਾ ਮੱਕੜੀ ਦੇ ਨਾਂ ਸੀ ਜੋ ਕਿ 28 ਸਾਲ ਤੱਕ ਜਿਊਂਦੀ ਰਹੀ। ਪੈਸਫਿਕ ਕੰਜ਼ਰਵੇਸ਼ਨ ਬਾਇਓਲਾਜੀ ਵਿਚ ਪ੍ਰਕਾਸ਼ਤ ਅਧਿਐਨ ਮੁਤਾਬਕ ਟਰੈਪਡੁਰ ਮੱਕੜੀ ਨੇ ਤਰਾਨਤੁਲਾ ਮੱਕੜੀ ਦੇ 28 ਸਾਲ ਤੱਕ ਜਿਊਂਦੇ ਰਹਿਣ ਦੇ ਰਿਕਾਰਡ ਨੂੰ ਤੋੜ ਦਿੱਤਾ ਹੈ। ਟਰੈਪਡੁਰ ਮੱਕੜੀਆਂ ਦਾ ਜੀਵਨਕਾਲ 5 ਤੋਂ 20 ਸਾਲ ਤੱਕ ਦਾ ਹੁੰਦਾ ਹੈ। ਮੱਕੜੀਆਂ ਮਨੁੱਖ ਖਤਰਾ ਤਾਂ ਨਹੀਂ ਇਨ੍ਹਾਂ ਦੇ ਕੱਟਣ ਨਾਲ ਹੁੰਦਾ ਹੈ ਅਤੇ ਸੋਜ ਹੋ ਜਾਂਦੀ ਹੈ।',\n",
       " 'ਮੁੰਬਈ ਬਿਊਰੋ ਸ਼ੁੱਕਰਵਾਰ 27 ਅਪ੍ਰੈਲ ਤੋਂ ਸੋਸ਼ਲ ਮੀਡੀਆ ਤੇ ਵਾਇਰਲ ਹੋ ਰਹੀ ਹੈ ਕਿ ਮਸ਼ਹੂਰ ਅਦਾਕਾਰਾ ਮੁਮਤਾਜ਼ ਦਾ ਦਿਹਾਂਤ ਹੋ ਗਿਆ ਹੈ ਅਫਵਾਹ ਤੇ ਦੀ ਬੇਟੀ ਤਾਨਿਆ ਮਾਧਵਾਨੀ ਨੇ ਵਿਰਾਮ ਲਾ ਦਿੱਤਾ ਹੈ। ਤਾਨਿਆ ਨੇ ਆਪਣੇ ਇੰਸਟਾਗ੍ਰਾਮ ਤੇ ਵੀਡੀਓ ਸ਼ੇਅਰ ਕਰਕੇ ਕਿਹਾ ਅਫਵਾਹਾਂ ਕਿ ਮਾਂ ਮੁਮਤਾਜ਼ ਦਾ ਦਿਹਾਂਤ ਹੋ ਗਿਆ ਹੈ। ਮੈਂ ਦੱਸ ਦਿਆ ਕਿ ਅਜਿਹਾ ਕੁਝ ਵੀ ਨਹੀਂ ਹੋਇਆ। ਅਸੀਂ ਸਮੇਂ ਇਟਲੀ ਹਾਂ। ਅਸੀਂ ਸ਼ੌਪਿੰਗ ਦੀ ਤਿਆਰੀ ਹਾਂ। c9c8cd 14 17 0 8 8 0 7 BiHCFquhH5t c9c8cd 14 17 2018 04 28T09 57 36+00 00 14 17 28 2018 2 57am 31 ਜੁਲਾਈ 1947 ਨੂੰ ਜਨਮੀ ਮੁਮਤਾਜ਼ ਪਿਛਲੇ ਸਾਲ ਹੀ 70 ਸਾਲ ਦੀ ਹੋਈ ਹੈ। ਦੱਸਿਆ ਜਾ ਰਿਹਾ ਹੈ ਕਿ ਮੁਮਤਾਜ਼ ਨੂੰ ਬ੍ਰੈਸਟ ਕੈਂਸਰ ਵਰਗੀ ਗੰਭੀਰ ਬੀਮਾਰੀ ਹੈ। ਸਾਲ 2000 ਨੂੰ ਬੀਮਾਰੀ ਦਾ ਪਤਾ ਲੱਗਾ ਸੀ। ਦਾ ਇਲਾਜ਼ ਚੱਲ ਰਿਹਾ ਹੈ। ਇੰਟਰਵਿਊ ਦੌਰਾਨ ਨੇ ਕਿਹਾ ਸੀ ਮੈਂ ਕੈਂਸਰ ਤੋਂ ਵਾਲੀ ਨਹੀਂ ਹਾਂ। ਮਰਦੇ ਤੱਕ ਬੀਮਾਰੀ ਨਾਲ ਲੜਾਂਗੀ। ਮੁਮਤਾਜ਼ ਪਿਛਲੇ ਕੁਝ ਸਾਲਾਂ ਤੋਂ ਲੰਡਨ ਰਹਿ ਰਹੀ ਹੈ। 10 45 1529500001 ਫਿਰੋਜ਼ ਖਾਨ ਨਾਲ ਰਹੀਆਂ ਮੁਮਤਾਜ਼ ਦੀਆਂ ਨਜ਼ਦੀਕੀਆਂ ਮੁਮਤਾਜ਼ ਨੇ ਸਿਤਾਰਿਆਂ ਨਾਲ ਕੰਮ ਕੀਤਾ। ਇਨ੍ਹਾਂ ਚੋਂ ਫਿਰੋਜ਼ ਖਾਨ ਦਾ ਨਾਂ ਵੀ ਹੈ। ਫਿਰੋਜ਼ ਖਾਨ ਨਾਲ ਨੇ ਕੁਝ ਹੀ ਫਿਲਮਾਂ ਕੀਤੀਆਂ ਸਨ। ਫਿਲਮਾਂ ਦੌਰਾਨ ਦੋਵੇਂ ਦੇ ਅਫੇਅਰ ਦੇ ਕਿੱਸੇ ਇੰਡਸਟਰੀ ਚਰਚਾ ਦਾ ਵਿਸ਼ਾ ਬਣੇ ਸਨ। ਹਾਲਾਂਕਿ ਦੋਵਾਂ ਨੇ ਕਦੇ ਵੀ ਗੱਲ ਨੂੰ ਤੌਰ ਤੇ ਸਵੀਕਾਰ ਨਹੀਂ ਕੀਤਾ। ਦੋਵਾਂ ਨੇ ਵੋ ਕੋਈ ਹੋਗਾ ਸੀ ਡੀ 909 ਆਦਮੀ ਇਨਸਾਨ ਉਪਾਸਨਾ ਮੇਲਾ ਅਪਰਾਧ ਸਮੇਤ ਹੋਰ ਫਿਲਮਾਂ ਇਕੱਠੇ ਕੰਮ ਕੀਤਾ। ਫਿਰੋਜ਼ ਖਾਨ ਦੇ ਬੇਟੇ ਨਾਲ ਫਰਦੀਨ ਖਾਨ ਨੇ ਮੁਮਤਾਜ਼ ਦੀ ਬੇਟੀ ਨਤਾਸ਼ਾ ਨਾਲ ਵਿਆਹ ਕਰਵਾ ਲਿਆ ਸੀ। 10 45 1094800000',\n",
       " 'ਇਸਲਾਮਾਬਾਦ ਵਾਸ਼ਿੰਗਟਨ ਬਿਊਰੋ ਵਾਸ਼ਿੰਗਟਨ ਵਿਚ ਪਾਕਿਸਤਾਨ ਦੇ ਨਵੇਂ ਰਾਜਦੂਤ ਦੇ ਤੌਰ ਤੇ ਅਲੀ ਜਹਾਂਗੀਰ ਸਿੱਦੀਕੀ ਦੀ ਨਿਯੁਕਤੀ ਨੂੰ ਅਮਰੀਕਾ ਨੇ ਹਾਲੇ ਤੱਕ ਹਰੀ ਝੰਡੀ ਨਹੀਂ ਦਿੱਤੀ ਹੈ। ਉੱਥੇ ਪਾਕਿਸਤਾਨ ਵਿਚ ਵੀ ਉਨ੍ਹਾਂ ਦੀ ਨਿਯੁਕਤੀ ਨੂੰ ਲੈ ਕੇ ਵਿਰੋਧ ਸ਼ੁਰੂ ਹੋ ਗਿਆ ਹੈ। ਨਾਲ ਅਮਰੀਕਾ ਵਿਚ ਪਾਕਿਸਤਾਨ ਦੇ ਰਾਜਦੂਤ ਦੀ ਨਿਯੁਕਤੀ ਦਾ ਮਾਮਲਾ ਫੱਸਦਾ ਜਾ ਰਿਹਾ ਹੈ। ਜਹਾਂਗੀਰ ਕਾਰੋਬਾਰੀ ਜਿਨ੍ਹਾਂ ਦਾ ਕਾਰੋਬਾਰ ਕਰਾਚੀ ਸ਼ਹਿਰ ਤੋਂ ਸੰਚਾਲਿਤ ਹੁੰਦਾ ਹੈ। ਅਮਰੀਕਾ ਵਿਚ ਪਾਕਿਸਤਾਨੀ ਰਾਜਦੂਤ ਦੇ ਤੌਰ ਤੇ ਜਹਾਂਗੀਰ ਦੀ ਨਿਯੁਕਤੀ ਮਾਰਚ ਵਿਚ ਹੋ ਜਾਣੀ ਸੀ ਅਮਰੀਕਾ ਨੇ ਹਾਲੇ ਤੱਕ ਸੰਬੰਧ ਵਿਚ ਕੋਈ ਕਰਾਰ ਜਾਰੀ ਨਹੀਂ ਕੀਤਾ ਹੈ। ਕਿਸੇ ਦੇਸ਼ ਵਿਚ ਬਾਹਰੀ ਦੇਸ਼ ਦੇ ਪ੍ਰਤੀਨਿਧੀ ਦੇ ਰੂਪ ਵਿਚ ਮਾਨਤਾ ਦੇਣ ਮੇਜ਼ਬਾਨ ਦੇਸ਼ ਵੱਲੋਂ ਸਮਝੌਤੇ ਨੂੰ ਮਨਜ਼ੂਰੀ ਦਿੱਤੀ ਜਾਣੀ ਹੁੰਦੀ ਹੈ। ਇਸੇ ਉਦੇਸ਼ ਨਾਲ ਪਾਕਿਸਤਾਨ ਨੇ ਕਰੀਬ ਦੋ ਮਹੀਨੇ ਪਹਿਲਾਂ ਹੀ ਅਮਰੀਕਾ ਦੇ ਗ੍ਰਹਿ ਮੰਤਰਾਲੇ ਨੂੰ ਜ਼ਰੂਰੀ ਦਸਤਾਵੇਜ਼ ਭੇਜੇ ਹਾਲੇ ਟਰੰਪ ਪ੍ਰਸ਼ਾਸਨ ਨੇ ਸਮਝੌਤੇ ਨੂੰ ਮਨਜ਼ੂਰੀ ਪ੍ਰਦਾਨ ਨਹੀਂ ਕੀਤੀ ਹੈ। ਗੌਰਤਲਬ ਹੈ ਕਿ ਡਿਪਲੌਮੈਟਿਕ ਨਿਯਮ ਮੇਜ਼ਬਾਨ ਦੇਸ਼ ਦੀ ਸਰਕਾਰ ਨੂੰ ਦੂਜੇ ਦੇਸ਼ ਦੀ ਸਰਕਾਰ ਵੱਲੋਂ ਦੱਸਣ ਦੀ ਇਜਾਜ਼ਤ ਨਹੀਂ ਦਿੰਦਾ ਹੈ ਕਿ ਕਿਸ ਨੂੰ ਰਾਜਦੂਤ ਦੇ ਰੂਪ ਵਿਚ ਭੇਜਣਾ ਚਾਹੁੰਦਾ ਹੈ ਮੇਜ਼ਬਾਨ ਦੇਸ਼ ਕਿਸੇ ਹੋਰ ਦੇ ਪ੍ਰਤੀਨਿਧੀ ਨੂੰ ਰਾਜਦੂਤ ਦੇ ਰੂਪ ਵਿਚ ਮਨਜ਼ੂਰੀ ਦੇਣ ਮਜ਼ਬੂਰ ਨਹੀਂ ਹੁੰਦਾ ਹੈ। ਮਾਰਚ ਦੇ ਸ਼ੁਰੂ ਵਿਚ ਹੀ ਪਾਕਿਸਤਾਨ ਸਰਕਾਰ ਨੇ ਐਲਾਨ ਕੀਤਾ ਸੀ ਕਿ ਅਲੀ ਜਹਾਂਗੀਰ ਸਿੱਦੀਕੀ ਅਮਰੀਕਾ ਵਿਚ ਪਾਕਿਸਤਾਨ ਦੇ ਰਾਜਦੂਤ ਹੋਣਗੇ। ਮੀਡੀਆ ਰਿਪੋਰਟਾਂ ਵਿਚ ਦਾਅਵਾ ਕੀਤਾ ਗਿਆ ਸੀ ਕਿ ਸਿੱਦੀਕੀ ਦਾ ਨਿਯੁਕਤੀ ਪੱਤਰ ਸਿੱਧੇ ਪ੍ਰਧਾਨ ਮੰਤਰੀ ਸ਼ਾਹਿਦ ਖਾਕਾਨ ਅੱਬਾਸੀ ਵੱਲੋਂ ਸੀ। ਤੋਂ ਪਹਿਲਾਂ ਸਿੱਦੀਕੀ ਪਾਕਿਸਤਾਨੀ ਪ੍ਰਧਾਨ ਮੰਤਰੀ ਅੱਬਾਸੀ ਦੇ ਆਰਥਿਕ ਮਾਮਲਿਆਂ ਦੇ ਸਲਾਹਕਾਰ ਰਹੇ ਹਨ।',\n",
       " 'ਨਵੀਂ ਦਿੱਲੀ ਪ੍ਰਧਾਨ ਮੰਤਰੀ ਨਰਿੰਦਰ ਮੋਦੀ ਦੀ ਚੀਨ ਯਾਤਰਾ ਕਾਫੀ ਰਹੀ। ਚੀਨ ਨੇ ਭਾਰਤੀ ਦਵਾ ਕੰਪਨੀਆਂ ਨੂੰ ਵੱਡੀ ਰਾਹਤ ਦਿੱਤੀ ਹੈ। ਨੇ ਭਾਰਤ ਤੋਂ ਵਾਲੀਆਂ ਤਕਰੀਬਨ 28 ਦਵਾਈਆਂ ਤੇ ਇੰਪੋਰਟ ਡਿਊਟੀ ਹਟਾ ਦਿੱਤੀ ਹੈ। ਨਾਲ ਭਾਰਤੀ ਦਵਾ ਕੰਪਨੀਆਂ ਨੂੰ ਉੱਥੇ ਦੇ ਬਾਜ਼ਾਰ ਆਸਾਨੀ ਨਾਲ ਪਹੁੰਚ ਵਧਾਉਣ ਮਿਲੇਗੀ। ਚੀਨ ਨੇ ਤੋਂ 28 ਦਵਾਈਆਂ ਤੇ ਇੰਪੋਰਟ ਡਿਊਟੀ ਹਟਾ ਦਿੱਤੀ ਹੈ। ਕੈਂਸਰ ਦੀਆਂ ਸਾਰੀਆਂ ਦਵਾਈਆਂ ਸ਼ਾਮਲ ਹਨ। ਭਾਰਤੀ ਫਾਰਮਾ ਕੰਪਨੀਆਂ ਚੰਗੀ ਹੈ। ਭਾਰਤ ਚੀਨ ਦੇ ਰਾਜਦੂਤ ਨੇ ਕਿਹਾ ਕਿ ਮੈਨੂੰ ਉਮੀਦ ਹੈ ਕਿ ਨਾਲ ਭਾਰਤ ਅਤੇ ਚੀਨ ਵਿਚਕਾਰ ਜੋ ਵਪਾਰ ਅਸੰਤੁਲਨ ਹੈ ਨੂੰ ਭਵਿੱਖ ਘੱਟ ਮਿਲੇਗੀ। ਦੱਸਣਯੋਗ ਹੈ ਕਿ ਅਪ੍ਰੈਲ 2017 18 ਚੀਨ ਨਾਲ ਭਾਰਤ ਦਾ ਵਪਾਰ ਘਾਟਾ 36 73 ਡਾਲਰ ਸੀ। ਹਾਲਾਂਕਿ ਸਾਲ 2016 17 51 ਡਾਲਰ ਸੀ ਜੋ ਕਿ ਵਾਰ ਘੱਟ ਰਿਹਾ। ਚੀਨੀ ਰਾਜਦੂਤ ਨੇ ਵੀ ਕਿਹਾ ਕਿ ਚੀਨ ਕਾਰੋਬਾਰੀ ਮਾਹੌਲ ਨੂੰ ਸੁਧਾਰਨ ਦੀ ਦਿਸ਼ਾ ਹੋਰ ਕੰਮ ਕਰੇਗਾ ਅਤੇ ਨਵਾਂ ਕਾਰੋਬਾਰ ਸ਼ੁਰੂ ਲੱਗਣ ਵਾਲੇ ਸਮੇਂ ਨੂੰ ਅੱਧਾ ਦਿੱਤਾ ਜਾਵੇਗਾ। ਉਨ੍ਹਾਂ ਨੇ ਅੱਗੇ ਕਿਹਾ ਕਿ ਬਾਹਰੀ ਦੁਨੀਆ ਚੀਨ ਦੇ ਦਰਵਾਜ਼ੇ ਹੋਰ ਖੋਲ੍ਹੇ ਜਾਣਗੇ। ਉਨ੍ਹਾਂ ਨੇ ਕਿਹਾ ਭਾਰਤੀ ਕਾਰੋਬਾਰ ਦਾ ਚੀਨ ਸਵਾਗਤ ਹੈ। ਉੱਥੇ ਹੀ ਭਾਰਤ ਨੇ ਵੀ ਚੀਨ ਨੂੰ ਨਿਵੇਸ਼ ਵਧਾਉਣ ਦਾ ਸੱਦਾ ਦਿੱਤਾ ਹੈ। ਤੇ ਚੀਨ ਭਾਰਤ ਇੰਡਸਟਰੀ ਪਾਰਕ ਬਣਾਉਣ ਤੇ ਸਹਿਮਤ ਹੋ ਗਿਆ ਹੈ ਤਾਂ ਕਿ ਨਿਵੇਸ਼ ਸਕੇ ਅਤੇ ਵਪਾਰ ਘਾਟੇ ਨੂੰ ਘੱਟ ਮਿਲ ਸਕੇ।',\n",
       " 'ਸੰਗਤ ਮੰਡੀ ਮਨਜੀਤ ਪਿੰਡ ਘੁੱਦਾ ਵਿਖੇ ਪ੍ਰੇਮਿਕਾ ਵੱਲੋਂ ਆਪਣੇ ਪ੍ਰੇਮੀ ਨੂੰ ਤੰਗ ਪ੍ਰੇਸ਼ਾਨ ਦੇ ਕਾਰਨ ਪ੍ਰੇਮੀ ਵੱਲੋਂ ਕੋਈ ਜ਼ਹਿਰੀਲੀ ਦਵਾਈ ਨਿਗਲ ਕੇ ਖੁਦਕੁਸ਼ੀ ਦਾ ਮਾਮਲਾ ਸਾਹਮਣੇ ਹੈ। ਥਾਣਾ ਨੰਦਗੜ੍ਹ ਦੇ ਸਹਾਇਕ ਥਾਣੇਦਾਰ ਗਮਦੂਰ ਸਿੰਘ ਨੇ ਜਾਣਕਾਰੀ ਦਿੰਦੇ ਦੱਸਿਆ ਕਿ ਮ੍ਰਿਤਕ ਜਗਮੀਤ ਸਿੰਘ 32 ਦੀ ਪਤਨੀ ਸੰਦੀਪ ਕੌਰ ਨੇ ਥਾਣੇ ਬਿਆਨ ਕਰਵਾਏ ਕਿ ਦਾ ਪਤੀ ਜਗਮੀਤ ਸਿੰਘ ਪਿੰਡ ਜ਼ਮੀਨ ਠੇਕੇ ਤੇ ਲੈ ਕੇ ਵਾਹੀ ਕਰਦਾ ਸੀ। ਜਗਮੀਤ ਸਿੰਘ ਨਰਮੇ ਦੇ ਸੀਜ਼ਨ ਸਮੇਂ ਨਰਮਾ ਚੁਗਾਉਣ ਪਿੰਡ ਕੋਟਗੁਰੂ ਤੋਂ ਚੁਗਾਰੇ ਲੈ ਕੇ ਆਉਂਦਾ ਸੀ ਜਿਸ ਸੁਖਜੀਤ ਕੌਰ ਪਤਨੀ ਗੁਰਜੰਟ ਸਿੰਘ ਵੀ ਚੁਗਾਰਿਆਂ ਦੇ ਨਾਲ ਆਉਂਦੀ ਸੀ। ਸੁਖਜੀਤ ਕੌਰ ਦੇ ਪਤੀ ਦੀ ਪਹਿਲਾਂ ਹੀ ਮੌਤ ਹੋ ਚੁੱਕੀ ਸੀ ਦੌਰਾਨ ਦੇ ਜਗਮੀਤ ਸਿੰਘ ਨਾਲ ਨਾਜਾਇਜ਼ ਸਬੰਧ ਜੋ ਹੀ ਦੂਸਰੇ ਨੂੰ ਚੋਰੀ ਚੋਰੀ ਮਿਲਦੇ ਸਨ। ਹਾਲਾਤ ਕਿ ਜਗਮੀਤ ਸਿੰਘ ਨੂੰ ਖੁਦ ਦੇ ਦੇ ਤੋਂ ਇਲਾਵਾ ਸੁਖਜੀਤ ਕੌਰ ਦੇ ਸਾਰੇ ਦਾ ਖ਼ਰਚਾ ਵੀ ਚੁੱਕਣਾ ਪੈ ਪਿਆ ਸੀ। ਕੁਝ ਦਿਨ ਪਹਿਲਾ ਵੀ ਜਗਮੀਤ ਸਿੰਘ ਸੁਖਜੀਤ ਕੌਰ ਨੂੰ ਪੈਸਿਆਂ ਦੇ ਨਾਲ ਨਾਲ ਵੀ ਦੇ ਕੇ ਸੀ। ਸੁਖਜੀਤ ਕੌਰ ਜਗਮੀਤ ਨੂੰ ਪੈਸਿਆਂ ਰੋਜ਼ ਤੰਗ ਪ੍ਰੇਸ਼ਾਨ ਰਹੀ ਸੀ ਇਸੇ ਤੰਗੀ ਪ੍ਰੇਸ਼ਾਨੀ ਤੋਂ ਦੁਖੀ ਹੋ ਕੇ ਜਗਮੀਤ ਸਿੰਘ ਨੇ ਕੋਈ ਜ਼ਹਿਰੀਲੀ ਦਵਾਈ ਨਿਗਲ ਕੇ ਖੁਦਕੁਸ਼ੀ ਲਈ। ਪੁਲਸ ਵੱਲੋਂ ਮ੍ਰਿਤਕ ਦੀ ਪਤਨੀ ਸੰਦੀਪ ਕੌਰ ਦੇ ਬਿਆਨਾਂ ਤੇ ਸੁਖਜੀਤ ਕੌਰ ਪਤਨੀ ਗੁਰਜੰਟ ਸਿੰਘ ਵਾਸੀ ਕੋਟਗੁਰੂ ਵਿਰੁੱਧ ਮਾਮਲਾ ਕੇ ਅਗਲੇਰੀ ਕਾਰਵਾਈ ਸ਼ੁਰੂ ਦਿੱਤੀ ਹੈ।']"
      ]
     },
     "execution_count": 89,
     "metadata": {},
     "output_type": "execute_result"
    }
   ],
   "source": [
    "top_5_similar(1936,cos_sim_sorted)"
   ]
  },
  {
   "cell_type": "code",
   "execution_count": 89,
   "metadata": {},
   "outputs": [],
   "source": [
    "##################  projection part ####################"
   ]
  },
  {
   "cell_type": "code",
   "execution_count": 91,
   "metadata": {},
   "outputs": [],
   "source": [
    "import tensorflow as tf\n",
    "import numpy as np\n",
    "from tensorflow.contrib.tensorboard.plugins import projector"
   ]
  },
  {
   "cell_type": "code",
   "execution_count": 94,
   "metadata": {},
   "outputs": [],
   "source": [
    "file=open(\"metadata.tsv\",'w')\n",
    "for news in corpus:\n",
    "    file.write(news + \"\\n\")\n",
    "file.close()"
   ]
  },
  {
   "cell_type": "code",
   "execution_count": 129,
   "metadata": {},
   "outputs": [],
   "source": [
    "with tf.Session() as sess:\n",
    "    embedding_variable=tf.Variable(vec,name=\"embedding\")\n",
    "    sess.run(tf.global_variables_initializer())\n",
    "    # create a TensorFlow summary writer\n",
    "    summary_writer = tf.summary.FileWriter('log', sess.graph)\n",
    "    config = projector.ProjectorConfig()\n",
    "    embedding_conf = config.embeddings.add()\n",
    "    embedding_conf.tensor_name = 'embedding'\n",
    "    embedding_conf.metadata_path = 'metadata.tsv'\n",
    "    projector.visualize_embeddings(summary_writer, config)\n",
    "\n",
    "    # save the model\n",
    "    saver = tf.train.Saver()\n",
    "    saver.save(sess, 'log/model.ckpt')"
   ]
  },
  {
   "cell_type": "code",
   "execution_count": null,
   "metadata": {},
   "outputs": [],
   "source": []
  },
  {
   "cell_type": "code",
   "execution_count": null,
   "metadata": {},
   "outputs": [],
   "source": []
  },
  {
   "cell_type": "code",
   "execution_count": null,
   "metadata": {},
   "outputs": [],
   "source": []
  }
 ],
 "metadata": {
  "kernelspec": {
   "display_name": "Python 3",
   "language": "python",
   "name": "python3"
  },
  "language_info": {
   "codemirror_mode": {
    "name": "ipython",
    "version": 3
   },
   "file_extension": ".py",
   "mimetype": "text/x-python",
   "name": "python",
   "nbconvert_exporter": "python",
   "pygments_lexer": "ipython3",
   "version": "3.6.5"
  }
 },
 "nbformat": 4,
 "nbformat_minor": 2
}
